{
 "cells": [
  {
   "cell_type": "code",
   "execution_count": 1,
   "id": "ddd234da",
   "metadata": {},
   "outputs": [],
   "source": [
    "import pandas as pd"
   ]
  },
  {
   "cell_type": "code",
   "execution_count": 3,
   "id": "5d236f5b",
   "metadata": {},
   "outputs": [
    {
     "data": {
      "text/html": [
       "<div>\n",
       "<style scoped>\n",
       "    .dataframe tbody tr th:only-of-type {\n",
       "        vertical-align: middle;\n",
       "    }\n",
       "\n",
       "    .dataframe tbody tr th {\n",
       "        vertical-align: top;\n",
       "    }\n",
       "\n",
       "    .dataframe thead th {\n",
       "        text-align: right;\n",
       "    }\n",
       "</style>\n",
       "<table border=\"1\" class=\"dataframe\">\n",
       "  <thead>\n",
       "    <tr style=\"text-align: right;\">\n",
       "      <th></th>\n",
       "      <th>SNo</th>\n",
       "      <th>Date</th>\n",
       "      <th>StartupName</th>\n",
       "      <th>IndustryVertical</th>\n",
       "      <th>SubVertical</th>\n",
       "      <th>CityLocation</th>\n",
       "      <th>InvestorsName</th>\n",
       "      <th>InvestmentType</th>\n",
       "      <th>AmountInUSD</th>\n",
       "      <th>Remarks</th>\n",
       "    </tr>\n",
       "  </thead>\n",
       "  <tbody>\n",
       "    <tr>\n",
       "      <th>0</th>\n",
       "      <td>0</td>\n",
       "      <td>01/08/2017</td>\n",
       "      <td>TouchKin</td>\n",
       "      <td>Technology</td>\n",
       "      <td>Predictive Care Platform</td>\n",
       "      <td>Bangalore</td>\n",
       "      <td>Kae Capital</td>\n",
       "      <td>Private Equity</td>\n",
       "      <td>1,300,000</td>\n",
       "      <td>NaN</td>\n",
       "    </tr>\n",
       "    <tr>\n",
       "      <th>1</th>\n",
       "      <td>1</td>\n",
       "      <td>02/08/2017</td>\n",
       "      <td>Ethinos</td>\n",
       "      <td>Technology</td>\n",
       "      <td>Digital Marketing Agency</td>\n",
       "      <td>Mumbai</td>\n",
       "      <td>Triton Investment Advisors</td>\n",
       "      <td>Private Equity</td>\n",
       "      <td>NaN</td>\n",
       "      <td>NaN</td>\n",
       "    </tr>\n",
       "    <tr>\n",
       "      <th>2</th>\n",
       "      <td>2</td>\n",
       "      <td>02/08/2017</td>\n",
       "      <td>Leverage Edu</td>\n",
       "      <td>Consumer Internet</td>\n",
       "      <td>Online platform for Higher Education Services</td>\n",
       "      <td>New Delhi</td>\n",
       "      <td>Kashyap Deorah, Anand Sankeshwar, Deepak Jain,...</td>\n",
       "      <td>Seed Funding</td>\n",
       "      <td>NaN</td>\n",
       "      <td>NaN</td>\n",
       "    </tr>\n",
       "    <tr>\n",
       "      <th>3</th>\n",
       "      <td>3</td>\n",
       "      <td>02/08/2017</td>\n",
       "      <td>Zepo</td>\n",
       "      <td>Consumer Internet</td>\n",
       "      <td>DIY Ecommerce platform</td>\n",
       "      <td>Mumbai</td>\n",
       "      <td>Kunal Shah, LetsVenture, Anupam Mittal, Hetal ...</td>\n",
       "      <td>Seed Funding</td>\n",
       "      <td>500,000</td>\n",
       "      <td>NaN</td>\n",
       "    </tr>\n",
       "    <tr>\n",
       "      <th>4</th>\n",
       "      <td>4</td>\n",
       "      <td>02/08/2017</td>\n",
       "      <td>Click2Clinic</td>\n",
       "      <td>Consumer Internet</td>\n",
       "      <td>healthcare service aggregator</td>\n",
       "      <td>Hyderabad</td>\n",
       "      <td>Narottam Thudi, Shireesh Palle</td>\n",
       "      <td>Seed Funding</td>\n",
       "      <td>850,000</td>\n",
       "      <td>NaN</td>\n",
       "    </tr>\n",
       "  </tbody>\n",
       "</table>\n",
       "</div>"
      ],
      "text/plain": [
       "   SNo        Date   StartupName   IndustryVertical  \\\n",
       "0    0  01/08/2017      TouchKin         Technology   \n",
       "1    1  02/08/2017       Ethinos         Technology   \n",
       "2    2  02/08/2017  Leverage Edu  Consumer Internet   \n",
       "3    3  02/08/2017          Zepo  Consumer Internet   \n",
       "4    4  02/08/2017  Click2Clinic  Consumer Internet   \n",
       "\n",
       "                                     SubVertical CityLocation  \\\n",
       "0                       Predictive Care Platform    Bangalore   \n",
       "1                       Digital Marketing Agency       Mumbai   \n",
       "2  Online platform for Higher Education Services    New Delhi   \n",
       "3                         DIY Ecommerce platform       Mumbai   \n",
       "4                  healthcare service aggregator    Hyderabad   \n",
       "\n",
       "                                       InvestorsName  InvestmentType  \\\n",
       "0                                        Kae Capital  Private Equity   \n",
       "1                         Triton Investment Advisors  Private Equity   \n",
       "2  Kashyap Deorah, Anand Sankeshwar, Deepak Jain,...    Seed Funding   \n",
       "3  Kunal Shah, LetsVenture, Anupam Mittal, Hetal ...    Seed Funding   \n",
       "4                     Narottam Thudi, Shireesh Palle    Seed Funding   \n",
       "\n",
       "  AmountInUSD Remarks  \n",
       "0   1,300,000     NaN  \n",
       "1         NaN     NaN  \n",
       "2         NaN     NaN  \n",
       "3     500,000     NaN  \n",
       "4     850,000     NaN  "
      ]
     },
     "execution_count": 3,
     "metadata": {},
     "output_type": "execute_result"
    }
   ],
   "source": [
    "startup = pd.read_csv('Datasets/startup_funding.csv')\n",
    "startup.head()"
   ]
  },
  {
   "cell_type": "code",
   "execution_count": 4,
   "id": "effb9bc4",
   "metadata": {},
   "outputs": [
    {
     "data": {
      "text/plain": [
       "0    1,300,000\n",
       "1          NaN\n",
       "2          NaN\n",
       "3      500,000\n",
       "4      850,000\n",
       "Name: AmountInUSD, dtype: object"
      ]
     },
     "execution_count": 4,
     "metadata": {},
     "output_type": "execute_result"
    }
   ],
   "source": [
    "amount = startup['AmountInUSD']\n",
    "amount.head()"
   ]
  },
  {
   "cell_type": "code",
   "execution_count": 5,
   "id": "d32b13fe",
   "metadata": {},
   "outputs": [
    {
     "data": {
      "text/plain": [
       "0    1,300,000\n",
       "3      500,000\n",
       "4      850,000\n",
       "5    1,000,000\n",
       "6    2,600,000\n",
       "Name: AmountInUSD, dtype: object"
      ]
     },
     "execution_count": 5,
     "metadata": {},
     "output_type": "execute_result"
    }
   ],
   "source": [
    "amount.dropna(inplace = True)\n",
    "amount.head()"
   ]
  },
  {
   "cell_type": "code",
   "execution_count": 6,
   "id": "c7398fe2",
   "metadata": {},
   "outputs": [
    {
     "data": {
      "text/plain": [
       "0    1300000\n",
       "3     500000\n",
       "4     850000\n",
       "5    1000000\n",
       "6    2600000\n",
       "Name: AmountInUSD, dtype: object"
      ]
     },
     "execution_count": 6,
     "metadata": {},
     "output_type": "execute_result"
    }
   ],
   "source": [
    "a1 = amount.str.replace(',','')\n",
    "a1.head()"
   ]
  },
  {
   "cell_type": "code",
   "execution_count": 7,
   "id": "8d0c79d8",
   "metadata": {},
   "outputs": [
    {
     "data": {
      "text/plain": [
       "'1300000'"
      ]
     },
     "execution_count": 7,
     "metadata": {},
     "output_type": "execute_result"
    }
   ],
   "source": [
    "a1[0]"
   ]
  },
  {
   "cell_type": "code",
   "execution_count": 11,
   "id": "88022050",
   "metadata": {},
   "outputs": [
    {
     "data": {
      "text/plain": [
       "0    1300000\n",
       "3     500000\n",
       "4     850000\n",
       "5    1000000\n",
       "6    2600000\n",
       "Name: AmountInUSD, dtype: int64"
      ]
     },
     "execution_count": 11,
     "metadata": {},
     "output_type": "execute_result"
    }
   ],
   "source": [
    "a2 = pd.to_numeric(a1)\n",
    "a2.head()"
   ]
  },
  {
   "cell_type": "code",
   "execution_count": 12,
   "id": "4eec26fe",
   "metadata": {},
   "outputs": [
    {
     "data": {
      "text/plain": [
       "1300000"
      ]
     },
     "execution_count": 12,
     "metadata": {},
     "output_type": "execute_result"
    }
   ],
   "source": [
    "a2[0]"
   ]
  },
  {
   "cell_type": "code",
   "execution_count": 16,
   "id": "b809f9b5",
   "metadata": {},
   "outputs": [],
   "source": [
    "population_min = a2.min()\n",
    "population_max = a2.max()\n",
    "population_mean = a2.mean()"
   ]
  },
  {
   "cell_type": "code",
   "execution_count": 17,
   "id": "37cf6fa1",
   "metadata": {},
   "outputs": [
    {
     "name": "stdout",
     "output_type": "stream",
     "text": [
      "16000\n",
      "1400000000\n",
      "12031073.099016393\n"
     ]
    }
   ],
   "source": [
    "print(population_min)\n",
    "print(population_max)\n",
    "print(population_mean)"
   ]
  },
  {
   "cell_type": "markdown",
   "id": "fe213978",
   "metadata": {},
   "source": [
    "## Simple Random Sampling"
   ]
  },
  {
   "cell_type": "code",
   "execution_count": 13,
   "id": "8c692306",
   "metadata": {},
   "outputs": [],
   "source": [
    "population = a2\n",
    "sample_size = 100"
   ]
  },
  {
   "cell_type": "code",
   "execution_count": 14,
   "id": "fcc03967",
   "metadata": {},
   "outputs": [
    {
     "data": {
      "text/plain": [
       "340    7500000\n",
       "Name: AmountInUSD, dtype: int64"
      ]
     },
     "execution_count": 14,
     "metadata": {},
     "output_type": "execute_result"
    }
   ],
   "source": [
    "population.sample()"
   ]
  },
  {
   "cell_type": "code",
   "execution_count": 15,
   "id": "4cc6d8b7",
   "metadata": {},
   "outputs": [
    {
     "data": {
      "text/plain": [
       "2257    75000000\n",
       "Name: AmountInUSD, dtype: int64"
      ]
     },
     "execution_count": 15,
     "metadata": {},
     "output_type": "execute_result"
    }
   ],
   "source": [
    "population.sample()"
   ]
  },
  {
   "cell_type": "code",
   "execution_count": 19,
   "id": "ebd0480f",
   "metadata": {},
   "outputs": [
    {
     "data": {
      "text/plain": [
       "1052      1000000\n",
       "1041     10000000\n",
       "2213      5000000\n",
       "960        150000\n",
       "2236       180000\n",
       "          ...    \n",
       "820        104000\n",
       "2258      3000000\n",
       "1094      1000000\n",
       "2080    100000000\n",
       "2282     20000000\n",
       "Name: AmountInUSD, Length: 100, dtype: int64"
      ]
     },
     "execution_count": 19,
     "metadata": {},
     "output_type": "execute_result"
    }
   ],
   "source": [
    "population.sample(sample_size)"
   ]
  },
  {
   "cell_type": "code",
   "execution_count": 22,
   "id": "77e7ab49",
   "metadata": {},
   "outputs": [
    {
     "data": {
      "text/plain": [
       "867      1070000\n",
       "370     70000000\n",
       "407       650000\n",
       "2139      200000\n",
       "1750    10000000\n",
       "          ...   \n",
       "1573     2500000\n",
       "133        50000\n",
       "500      2000000\n",
       "1310      100000\n",
       "31      10000000\n",
       "Name: AmountInUSD, Length: 100, dtype: int64"
      ]
     },
     "execution_count": 22,
     "metadata": {},
     "output_type": "execute_result"
    }
   ],
   "source": [
    "population.sample(sample_size)"
   ]
  },
  {
   "cell_type": "code",
   "execution_count": 23,
   "id": "9cb07d6f",
   "metadata": {},
   "outputs": [
    {
     "data": {
      "text/plain": [
       "142      4000000\n",
       "1931    16200000\n",
       "309       325000\n",
       "985     25000000\n",
       "439        18000\n",
       "          ...   \n",
       "1347     3000000\n",
       "1810    30000000\n",
       "1721      150000\n",
       "1913    30000000\n",
       "777      1500000\n",
       "Name: AmountInUSD, Length: 100, dtype: int64"
      ]
     },
     "execution_count": 23,
     "metadata": {},
     "output_type": "execute_result"
    }
   ],
   "source": [
    "population.sample(sample_size,random_state = 1)"
   ]
  },
  {
   "cell_type": "code",
   "execution_count": 24,
   "id": "e2286fcf",
   "metadata": {},
   "outputs": [
    {
     "data": {
      "text/plain": [
       "142      4000000\n",
       "1931    16200000\n",
       "309       325000\n",
       "985     25000000\n",
       "439        18000\n",
       "          ...   \n",
       "1347     3000000\n",
       "1810    30000000\n",
       "1721      150000\n",
       "1913    30000000\n",
       "777      1500000\n",
       "Name: AmountInUSD, Length: 100, dtype: int64"
      ]
     },
     "execution_count": 24,
     "metadata": {},
     "output_type": "execute_result"
    }
   ],
   "source": [
    "population.sample(sample_size,random_state = 1)"
   ]
  },
  {
   "cell_type": "code",
   "execution_count": 29,
   "id": "ed3340df",
   "metadata": {},
   "outputs": [
    {
     "data": {
      "text/plain": [
       "142      4000000\n",
       "1931    16200000\n",
       "309       325000\n",
       "985     25000000\n",
       "439        18000\n",
       "          ...   \n",
       "1347     3000000\n",
       "1810    30000000\n",
       "1721      150000\n",
       "1913    30000000\n",
       "777      1500000\n",
       "Name: AmountInUSD, Length: 100, dtype: int64"
      ]
     },
     "execution_count": 29,
     "metadata": {},
     "output_type": "execute_result"
    }
   ],
   "source": [
    "sample = population.sample(sample_size,random_state = 1)\n",
    "sample"
   ]
  },
  {
   "cell_type": "code",
   "execution_count": 32,
   "id": "21c84e1b",
   "metadata": {},
   "outputs": [
    {
     "name": "stdout",
     "output_type": "stream",
     "text": [
      "18000\n",
      "1400000000\n",
      "24592930.0\n"
     ]
    }
   ],
   "source": [
    "sample_min = sample.min()\n",
    "sample_max = sample.max()\n",
    "sample_mean = sample.mean()\n",
    "\n",
    "print(sample_min)\n",
    "print(sample_max)\n",
    "print(sample_mean)"
   ]
  },
  {
   "cell_type": "code",
   "execution_count": 33,
   "id": "52ba5f5f",
   "metadata": {},
   "outputs": [
    {
     "name": "stdout",
     "output_type": "stream",
     "text": [
      "16000   18000\n",
      "1400000000   1400000000\n",
      "12031073.099016393   24592930.0\n"
     ]
    }
   ],
   "source": [
    "print(population_min,' ',sample_min)\n",
    "print(population_max,' ',sample_max)\n",
    "print(population_mean,' ',sample_mean)"
   ]
  },
  {
   "cell_type": "markdown",
   "id": "6e304ce3",
   "metadata": {},
   "source": [
    "### Problem 1\n",
    "### Average Funding (Without Replacement)\n",
    "\n",
    "Download the file startup_funding\n",
    "Problem Statement :\n",
    "We want to find out the average amount of funding given to startups which are in either Bangalore or in New Delhi.\n",
    "For this - rather than considering all the startups, take a sample of size 50 (without replacement) and sample of size 75 (with replacement). Then find the average amount of funding from this sample and calculate the Sampling Error for each.\n",
    "Sampling Error = Average(Population) - Average(Sample)\n",
    "Note:\n",
    "Take city name \"Delhi\" as \"New Delhi\".\n",
    "Check the case-sensitiveness of cities also. That means - at some place, instead of \"Bangalore\", \"bangalore\" is given. Take city name as \"Bangalore\"\n",
    "Output :\n",
    "Print Sampling Error"
   ]
  },
  {
   "cell_type": "code",
   "execution_count": 44,
   "id": "7c5d6660",
   "metadata": {},
   "outputs": [],
   "source": [
    "data = startup[(startup['CityLocation']=='Bangalore') | (startup['CityLocation']=='bangalore') | (startup['CityLocation']=='Delhi') | (startup['CityLocation']=='New Delhi')]"
   ]
  },
  {
   "cell_type": "code",
   "execution_count": 45,
   "id": "f038dbd3",
   "metadata": {},
   "outputs": [
    {
     "name": "stderr",
     "output_type": "stream",
     "text": [
      "<ipython-input-45-9e31aa87ca88>:2: SettingWithCopyWarning: \n",
      "A value is trying to be set on a copy of a slice from a DataFrame\n",
      "\n",
      "See the caveats in the documentation: https://pandas.pydata.org/pandas-docs/stable/user_guide/indexing.html#returning-a-view-versus-a-copy\n",
      "  amount1.dropna(inplace = True)\n"
     ]
    }
   ],
   "source": [
    "amount1 = data['AmountInUSD']\n",
    "amount1.dropna(inplace = True)\n",
    "a1 = amount.str.replace(',','')\n",
    "a2 = pd.to_numeric(a1)"
   ]
  },
  {
   "cell_type": "code",
   "execution_count": 49,
   "id": "eafe5f44",
   "metadata": {},
   "outputs": [],
   "source": [
    "population_avg = a2.mean()"
   ]
  },
  {
   "cell_type": "code",
   "execution_count": 53,
   "id": "40b7c954",
   "metadata": {},
   "outputs": [],
   "source": [
    "sample_without_replacement = a2.sample(50, random_state = 1)\n",
    "sample_with_replacement = a2.sample(75,replace = True,random_state = 1)\n",
    "\n",
    "sample_without_replacement_mean = sample_without_replacement.mean()\n",
    "sample_with_replacement_mean = sample_with_replacement.mean()"
   ]
  },
  {
   "cell_type": "code",
   "execution_count": 54,
   "id": "2387467b",
   "metadata": {},
   "outputs": [],
   "source": [
    "sampling_error_without_replacement = population_avg - sample_without_replacement_mean\n",
    "sampling_error_with_replacement = population_avg - sample_with_replacement_mean"
   ]
  },
  {
   "cell_type": "code",
   "execution_count": 55,
   "id": "651bf598",
   "metadata": {},
   "outputs": [
    {
     "name": "stdout",
     "output_type": "stream",
     "text": [
      "1569473.0990163926\n",
      "3299971.659016393\n"
     ]
    }
   ],
   "source": [
    "print(sampling_error_without_replacement)\n",
    "print(sampling_error_with_replacement)"
   ]
  },
  {
   "cell_type": "markdown",
   "id": "fb59ec3b",
   "metadata": {},
   "source": [
    "## Stratified Sampling"
   ]
  },
  {
   "cell_type": "code",
   "execution_count": 1,
   "id": "1ca6d74c",
   "metadata": {},
   "outputs": [
    {
     "data": {
      "text/html": [
       "<div>\n",
       "<style scoped>\n",
       "    .dataframe tbody tr th:only-of-type {\n",
       "        vertical-align: middle;\n",
       "    }\n",
       "\n",
       "    .dataframe tbody tr th {\n",
       "        vertical-align: top;\n",
       "    }\n",
       "\n",
       "    .dataframe thead th {\n",
       "        text-align: right;\n",
       "    }\n",
       "</style>\n",
       "<table border=\"1\" class=\"dataframe\">\n",
       "  <thead>\n",
       "    <tr style=\"text-align: right;\">\n",
       "      <th></th>\n",
       "      <th>SNo</th>\n",
       "      <th>Date</th>\n",
       "      <th>StartupName</th>\n",
       "      <th>IndustryVertical</th>\n",
       "      <th>SubVertical</th>\n",
       "      <th>CityLocation</th>\n",
       "      <th>InvestorsName</th>\n",
       "      <th>InvestmentType</th>\n",
       "      <th>AmountInUSD</th>\n",
       "      <th>Remarks</th>\n",
       "    </tr>\n",
       "  </thead>\n",
       "  <tbody>\n",
       "    <tr>\n",
       "      <th>0</th>\n",
       "      <td>0</td>\n",
       "      <td>01/08/2017</td>\n",
       "      <td>TouchKin</td>\n",
       "      <td>Technology</td>\n",
       "      <td>Predictive Care Platform</td>\n",
       "      <td>Bangalore</td>\n",
       "      <td>Kae Capital</td>\n",
       "      <td>Private Equity</td>\n",
       "      <td>1,300,000</td>\n",
       "      <td>NaN</td>\n",
       "    </tr>\n",
       "    <tr>\n",
       "      <th>1</th>\n",
       "      <td>1</td>\n",
       "      <td>02/08/2017</td>\n",
       "      <td>Ethinos</td>\n",
       "      <td>Technology</td>\n",
       "      <td>Digital Marketing Agency</td>\n",
       "      <td>Mumbai</td>\n",
       "      <td>Triton Investment Advisors</td>\n",
       "      <td>Private Equity</td>\n",
       "      <td>NaN</td>\n",
       "      <td>NaN</td>\n",
       "    </tr>\n",
       "    <tr>\n",
       "      <th>2</th>\n",
       "      <td>2</td>\n",
       "      <td>02/08/2017</td>\n",
       "      <td>Leverage Edu</td>\n",
       "      <td>Consumer Internet</td>\n",
       "      <td>Online platform for Higher Education Services</td>\n",
       "      <td>New Delhi</td>\n",
       "      <td>Kashyap Deorah, Anand Sankeshwar, Deepak Jain,...</td>\n",
       "      <td>Seed Funding</td>\n",
       "      <td>NaN</td>\n",
       "      <td>NaN</td>\n",
       "    </tr>\n",
       "    <tr>\n",
       "      <th>3</th>\n",
       "      <td>3</td>\n",
       "      <td>02/08/2017</td>\n",
       "      <td>Zepo</td>\n",
       "      <td>Consumer Internet</td>\n",
       "      <td>DIY Ecommerce platform</td>\n",
       "      <td>Mumbai</td>\n",
       "      <td>Kunal Shah, LetsVenture, Anupam Mittal, Hetal ...</td>\n",
       "      <td>Seed Funding</td>\n",
       "      <td>500,000</td>\n",
       "      <td>NaN</td>\n",
       "    </tr>\n",
       "    <tr>\n",
       "      <th>4</th>\n",
       "      <td>4</td>\n",
       "      <td>02/08/2017</td>\n",
       "      <td>Click2Clinic</td>\n",
       "      <td>Consumer Internet</td>\n",
       "      <td>healthcare service aggregator</td>\n",
       "      <td>Hyderabad</td>\n",
       "      <td>Narottam Thudi, Shireesh Palle</td>\n",
       "      <td>Seed Funding</td>\n",
       "      <td>850,000</td>\n",
       "      <td>NaN</td>\n",
       "    </tr>\n",
       "  </tbody>\n",
       "</table>\n",
       "</div>"
      ],
      "text/plain": [
       "   SNo        Date   StartupName   IndustryVertical  \\\n",
       "0    0  01/08/2017      TouchKin         Technology   \n",
       "1    1  02/08/2017       Ethinos         Technology   \n",
       "2    2  02/08/2017  Leverage Edu  Consumer Internet   \n",
       "3    3  02/08/2017          Zepo  Consumer Internet   \n",
       "4    4  02/08/2017  Click2Clinic  Consumer Internet   \n",
       "\n",
       "                                     SubVertical CityLocation  \\\n",
       "0                       Predictive Care Platform    Bangalore   \n",
       "1                       Digital Marketing Agency       Mumbai   \n",
       "2  Online platform for Higher Education Services    New Delhi   \n",
       "3                         DIY Ecommerce platform       Mumbai   \n",
       "4                  healthcare service aggregator    Hyderabad   \n",
       "\n",
       "                                       InvestorsName  InvestmentType  \\\n",
       "0                                        Kae Capital  Private Equity   \n",
       "1                         Triton Investment Advisors  Private Equity   \n",
       "2  Kashyap Deorah, Anand Sankeshwar, Deepak Jain,...    Seed Funding   \n",
       "3  Kunal Shah, LetsVenture, Anupam Mittal, Hetal ...    Seed Funding   \n",
       "4                     Narottam Thudi, Shireesh Palle    Seed Funding   \n",
       "\n",
       "  AmountInUSD Remarks  \n",
       "0   1,300,000     NaN  \n",
       "1         NaN     NaN  \n",
       "2         NaN     NaN  \n",
       "3     500,000     NaN  \n",
       "4     850,000     NaN  "
      ]
     },
     "execution_count": 1,
     "metadata": {},
     "output_type": "execute_result"
    }
   ],
   "source": [
    "import pandas as pd\n",
    "data=pd.read_csv('Datasets/startup_funding.csv')\n",
    "df=data.copy()\n",
    "df_population=df.loc[(df['CityLocation']=='Bangalore')|\n",
    "                     (df['CityLocation']=='bangalore')|\n",
    "                     (df['CityLocation']=='Delhi')|\n",
    "                     (df['CityLocation']=='New Delhi')|\n",
    "                     (df['CityLocation']=='Gurgaon')|\n",
    "                     (df['CityLocation']=='Noida')|\n",
    "                     (df['CityLocation']=='Mumbai')|\n",
    "                     (df['CityLocation']=='Pune')|\n",
    "                     (df['CityLocation']=='Hyderabad')]\n",
    "df_population.head()"
   ]
  },
  {
   "cell_type": "code",
   "execution_count": 2,
   "id": "d89cda11",
   "metadata": {},
   "outputs": [],
   "source": [
    "df_bangalore=df.loc[(df['CityLocation']=='Bangalore')|(df['CityLocation']=='bangalore')]\n",
    "df_ncr=df.loc[(df['CityLocation']=='Delhi')|(df['CityLocation']=='New Delhi')|(df['CityLocation']=='Gurgaon')|(df['CityLocation']=='Noida')]\n",
    "df_mumbai=df.loc[df['CityLocation']=='Mumbai']\n",
    "df_pune=df.loc[df['CityLocation']=='Pune']\n",
    "df_hyderabad=df.loc[df['CityLocation']=='Hyderabad']"
   ]
  },
  {
   "cell_type": "code",
   "execution_count": 3,
   "id": "a8eacc08",
   "metadata": {},
   "outputs": [
    {
     "name": "stderr",
     "output_type": "stream",
     "text": [
      "<ipython-input-3-b99b011bda51>:2: SettingWithCopyWarning: \n",
      "A value is trying to be set on a copy of a slice from a DataFrame\n",
      "\n",
      "See the caveats in the documentation: https://pandas.pydata.org/pandas-docs/stable/user_guide/indexing.html#returning-a-view-versus-a-copy\n",
      "  amount_population.dropna(inplace=True)\n"
     ]
    }
   ],
   "source": [
    "amount_population=df_population.AmountInUSD\n",
    "amount_population.dropna(inplace=True)\n",
    "amount_population=amount_population.str.replace(',', '')\n",
    "amount_population=pd.to_numeric(amount_population)\n",
    "pop_max=amount_population.max()"
   ]
  },
  {
   "cell_type": "code",
   "execution_count": 4,
   "id": "4c589fd7",
   "metadata": {},
   "outputs": [],
   "source": [
    "s=[]\n",
    "amount=df_bangalore.AmountInUSD.dropna().str.replace(',', '')\n",
    "amount=pd.to_numeric(amount)\n",
    "sample=amount.sample(20)\n",
    "for j in sample:\n",
    "    s.append(j)\n",
    "\n",
    "amount=df_hyderabad.AmountInUSD.dropna().str.replace(',', '')\n",
    "amount=pd.to_numeric(amount)\n",
    "sample=amount.sample(20)\n",
    "for j in sample:\n",
    "    s.append(j)\n",
    "\n",
    "amount=df_mumbai.AmountInUSD.dropna().str.replace(',', '')\n",
    "amount=pd.to_numeric(amount)\n",
    "sample=amount.sample(20)\n",
    "for j in sample:\n",
    "    s.append(j)\n",
    "\n",
    "amount=df_ncr.AmountInUSD.dropna().str.replace(',', '')\n",
    "amount=pd.to_numeric(amount)\n",
    "sample=amount.sample(20)\n",
    "for j in sample:\n",
    "    s.append(j)\n",
    "\n",
    "amount=df_pune.AmountInUSD.dropna().str.replace(',', '')\n",
    "amount=pd.to_numeric(amount)\n",
    "sample=amount.sample(20)\n",
    "for j in sample:\n",
    "    s.append(j)\n",
    "    \n",
    "stat_max=max(s)"
   ]
  },
  {
   "cell_type": "code",
   "execution_count": 5,
   "id": "d20b29c9",
   "metadata": {},
   "outputs": [
    {
     "data": {
      "text/plain": [
       "900000000"
      ]
     },
     "execution_count": 5,
     "metadata": {},
     "output_type": "execute_result"
    }
   ],
   "source": [
    "error=pop_max-stat_max\n",
    "error"
   ]
  },
  {
   "cell_type": "markdown",
   "id": "3729cf43",
   "metadata": {},
   "source": [
    "### Proportionate Stratified Sampling"
   ]
  },
  {
   "cell_type": "code",
   "execution_count": 6,
   "id": "148806f1",
   "metadata": {},
   "outputs": [
    {
     "data": {
      "text/plain": [
       "1937"
      ]
     },
     "execution_count": 6,
     "metadata": {},
     "output_type": "execute_result"
    }
   ],
   "source": [
    "len(df_population)"
   ]
  },
  {
   "cell_type": "code",
   "execution_count": 7,
   "id": "83580041",
   "metadata": {},
   "outputs": [],
   "source": [
    "size_population = len(df_population)\n",
    "size_banglore = len(df_bangalore)\n",
    "size_ncr = len(df_ncr)\n",
    "size_mumbai = len(df_mumbai)\n",
    "size_pune = len(df_pune)\n",
    "size_hyderabad = len(df_hyderabad)"
   ]
  },
  {
   "cell_type": "code",
   "execution_count": 12,
   "id": "d74760b1",
   "metadata": {},
   "outputs": [],
   "source": [
    "sam_banglore = round((size_banglore/size_population)*100)\n",
    "sam_ncr = round((size_ncr/size_population)*100)\n",
    "sam_mumbai = round((size_mumbai/size_population)*100)\n",
    "sam_pune = round((size_pune/size_population)*100)\n",
    "sam_hyderabad = round((size_hyderabad/size_population)*100)"
   ]
  },
  {
   "cell_type": "code",
   "execution_count": 13,
   "id": "8bc04cfd",
   "metadata": {},
   "outputs": [],
   "source": [
    "s=[]\n",
    "amount=df_bangalore.AmountInUSD.dropna().str.replace(',', '')\n",
    "amount=pd.to_numeric(amount)\n",
    "sample=amount.sample(sam_banglore)\n",
    "for j in sample:\n",
    "    s.append(j)\n",
    "\n",
    "amount=df_hyderabad.AmountInUSD.dropna().str.replace(',', '')\n",
    "amount=pd.to_numeric(amount)\n",
    "sample=amount.sample(sam_hyderabad)\n",
    "for j in sample:\n",
    "    s.append(j)\n",
    "\n",
    "amount=df_mumbai.AmountInUSD.dropna().str.replace(',', '')\n",
    "amount=pd.to_numeric(amount)\n",
    "sample=amount.sample(sam_mumbai)\n",
    "for j in sample:\n",
    "    s.append(j)\n",
    "\n",
    "amount=df_ncr.AmountInUSD.dropna().str.replace(',', '')\n",
    "amount=pd.to_numeric(amount)\n",
    "sample=amount.sample(sam_ncr)\n",
    "for j in sample:\n",
    "    s.append(j)\n",
    "\n",
    "amount=df_pune.AmountInUSD.dropna().str.replace(',', '')\n",
    "amount=pd.to_numeric(amount)\n",
    "sample=amount.sample(sam_pune)\n",
    "for j in sample:\n",
    "    s.append(j)\n",
    "    \n",
    "stat_max=max(s)"
   ]
  },
  {
   "cell_type": "code",
   "execution_count": 15,
   "id": "dcd03ad0",
   "metadata": {},
   "outputs": [
    {
     "data": {
      "text/plain": [
       "900000000"
      ]
     },
     "execution_count": 15,
     "metadata": {},
     "output_type": "execute_result"
    }
   ],
   "source": [
    "error=pop_max-stat_max\n",
    "error"
   ]
  },
  {
   "cell_type": "code",
   "execution_count": null,
   "id": "1fcf91a8",
   "metadata": {},
   "outputs": [],
   "source": []
  }
 ],
 "metadata": {
  "kernelspec": {
   "display_name": "Python 3",
   "language": "python",
   "name": "python3"
  },
  "language_info": {
   "codemirror_mode": {
    "name": "ipython",
    "version": 3
   },
   "file_extension": ".py",
   "mimetype": "text/x-python",
   "name": "python",
   "nbconvert_exporter": "python",
   "pygments_lexer": "ipython3",
   "version": "3.8.8"
  }
 },
 "nbformat": 4,
 "nbformat_minor": 5
}
